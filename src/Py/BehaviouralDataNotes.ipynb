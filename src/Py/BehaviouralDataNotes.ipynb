{
 "cells": [
  {
   "cell_type": "markdown",
   "id": "a8c40a45-7640-48e2-a2d9-2b9c1e7b6588",
   "metadata": {},
   "source": [
    "# behavioural data notes"
   ]
  },
  {
   "cell_type": "markdown",
   "id": "d224f2ad-d739-4f1a-b27a-79e57865ad78",
   "metadata": {},
   "source": [
    "## Training\n",
    "\n",
    "This experiment uses a block-based design and shows participants stimuli of real motion.\n",
    "\n",
    "In each block, stimuli moving in one direction (left, right, forward, backward) is presented. Within a block, the speed of movement varies across trials, and participants are asked to press a button when the speed increases from one trial to the next.\n",
    "\n",
    "Note that running the experiment script (`trainIMD` or variants) creates only 1 run! So, for each participant, the script was run 8 times, and there were 8 log files per participant.\n",
    "\n",
    "The presented conditions, number of blocks, velocity parameters, run duration etc. match with what is written on the script."
   ]
  },
  {
   "cell_type": "markdown",
   "id": "9a5d12eb-ac47-4fdb-bcf7-70e67abcb56a",
   "metadata": {},
   "source": [
    "## Test\n",
    "\n",
    "This experiment uses a block-based design and shows participants stimuli of implied motion.\n",
    "\n",
    "In each block, stimuli moving in one direction (left, right, forward, backward) is presented. They performed a 1-back task to maintain\n",
    "attention on the images and pressed a key when the same image (matching both fore- and background) was presented the second time in a row, which occurred randomly once per block.\n",
    "\n",
    "Note that running the experiment script (`testIMD` or variants) creates only 1 run! So, for each participant, the script was run 8 times, and there were 8 log files per participant.\n",
    "\n",
    "The presented conditions, number of blocks, velocity parameters, run duration etc. match with what is written on the script."
   ]
  },
  {
   "cell_type": "markdown",
   "id": "f23d646c-3766-4a8d-b65f-89b0e98b920a",
   "metadata": {},
   "source": [
    "## Stimulus Presentation and Scanning Parameters\n",
    "\n",
    "Everything in this table is obtained from the matlab scripts only (except the correct TR). Some of these are to be cross-checked with the imaging data.\n",
    "\n",
    "| parameter | value |\n",
    "| ----------| ------|\n",
    "| width| 1280px|\n",
    "| height| 1024 px|\n",
    "| response button | 4$ (pressed using right index finger) |\n",
    "| dummy TRs | 8 (plus there is an additional manual pulse from the researcher at the beginning)|\n",
    "| TR | 1.2 seconds (for the first three participants it is .6 seconds), but these data are discarded|\n",
    "| refresh rate | 60 Hz |\n",
    "| background | grey [123,123,123] |\n",
    "| trigger button | w |\n",
    "| zoom in condition | 1 |\n",
    "| zoom out condition | 2 |\n",
    "| right movement condition | 3 |\n",
    "| left movement condition | 4 |\n",
    "| speeds of movement | [4, 8, 12, 16, 20, 24 , 28, 32] |\n",
    "| image per block | 8 |\n",
    "| image presentation duration | 1.5 seconds |\n",
    "| inter block interval | 8 seconds |\n",
    "| total block no per run | 16 |\n",
    "| total number of runs | 8 |\n",
    "| total functional images per run | Gizem reports 509 (including 8 dummies). However, this is based on the `TR` she manually enters, which is incorrect for the analysed data. Number of functional images is therefore half the reported number, which is 254 |\n",
    "| time of run (roughly) | 305 seconds\n"
   ]
  },
  {
   "cell_type": "markdown",
   "id": "f8cb2d28-cbf8-4139-af2f-3a156912d56b",
   "metadata": {},
   "source": [
    "## Recorded Data File Structure"
   ]
  },
  {
   "cell_type": "markdown",
   "id": "04262a3a-884a-434e-aeb3-5440a812deb2",
   "metadata": {},
   "source": [
    "Files are recorded as `.mat` files with the following name structure:\n",
    "\n",
    "`e01s{participant no}_{block no}_{block type}_{date}.mat`\n",
    "\n",
    "where block numbers go from 1 to 16 (mixed across block types) and block types are Train (real motion) or Test (implied motion).\n",
    "\n",
    "On the first level of the struct, field contain a lot of meta-data that is either written above or found in the scripts. An important field is `logs` which contains different info for the train and test blocks. Here are the shared ones:\n",
    "\n",
    "- blockSeq: Numbers from 1 to 4, each of which correspond to a condition (see above).\n",
    "- blockOnsets: Onset time of the block\n",
    "- timeStart: start of the run (after dummies)\n",
    "- fmri: start of the run (with dummies)\n",
    "\n",
    "For Train, there are the additional following fields:\n",
    "\n",
    "- speedtask: 136 by 3 array. Each row is a trial. First column specifies the block (1 to 17). Second column specifies the velocity of stimulus. Third column specifies the onset of the trial.\n",
    "- tKeyPresses: Timing of key presses\n",
    "- blockIntTE: 17 by 2 array. Each row is a block. First column specifies the block type (1 to 4). Second column specifies the duration between blocks.\n",
    "- blockOffsets: Offset time of the block\n",
    "\n",
    "For Test, there are the additional following fields:\n",
    "\n",
    "- ifi: flip interval of the monitor\n",
    "- blockImgSeq: 136 by 2 array. First column specifies the block type (1 to 4). Second column specifies the image identity no in a given trial.\n",
    "- tBackMatches: An array of varying length (min 17) which specifies the timing of repeating stimuli. Note that this does not match the description of what is written in the manuscript, which is that images repeat only once per block.\n",
    "- taskKeyPresses: Response of participants when they thought they saw matching images\n",
    "- blockOffsets: Offset time of the block PLUS the inter block interval\n",
    "- bintOnset: Offset time of the block (excluding the interblock interval)\n",
    "\n"
   ]
  }
 ],
 "metadata": {
  "kernelspec": {
   "display_name": "Python 3.6.8 64-bit",
   "language": "python",
   "name": "python3"
  },
  "language_info": {
   "codemirror_mode": {
    "name": "ipython",
    "version": 3
   },
   "file_extension": ".py",
   "mimetype": "text/x-python",
   "name": "python",
   "nbconvert_exporter": "python",
   "pygments_lexer": "ipython3",
   "version": "3.6.8"
  },
  "vscode": {
   "interpreter": {
    "hash": "916dbcbb3f70747c44a77c7bcd40155683ae19c65e1c03b4aa3499c5328201f1"
   }
  }
 },
 "nbformat": 4,
 "nbformat_minor": 5
}
